{
 "cells": [
  {
   "cell_type": "code",
   "execution_count": 1,
   "metadata": {},
   "outputs": [],
   "source": [
    "import pandas as pd\n",
    "import matplotlib.pyplot as plt\n",
    "import os\n",
    "import re\n",
    "\n",
    "from google.cloud import bigquery\n",
    "import google.cloud.bigquery.magics\n",
    "\n",
    "google.cloud.bigquery.magics.context.use_bqstorage_api = True\n",
    "%load_ext google.cloud.bigquery"
   ]
  },
  {
   "cell_type": "markdown",
   "metadata": {},
   "source": [
    "### Setup of google credentials and connecting to the project"
   ]
  },
  {
   "cell_type": "code",
   "execution_count": 2,
   "metadata": {},
   "outputs": [],
   "source": [
    "path_to_service_account_json = \"./gcp_key.json\"  # gcp_key.json - service account key, should be placed for individual account.\n",
    "project_id = 'poetic-glass-297209'               # id of the project on google cloud platform, required for the authentification.\n",
    "\n",
    "os.environ[\"GOOGLE_APPLICATION_CREDENTIALS\"]=path_to_service_account_json \n",
    "client = bigquery.Client(project=project_id)"
   ]
  },
  {
   "cell_type": "markdown",
   "metadata": {},
   "source": [
    "### Exploring dataset structure, columns, information in the columns"
   ]
  },
  {
   "cell_type": "markdown",
   "metadata": {},
   "source": [
    "Information about columns adn datatypes is available on website: https://data.iowa.gov/Sales-Distribution/Iowa-Liquor-Sales/m3tr-qhgy"
   ]
  },
  {
   "cell_type": "code",
   "execution_count": 3,
   "metadata": {},
   "outputs": [],
   "source": [
    "# sample dataframe for understanding datastructure\n",
    "df = client.query('SELECT * FROM bigquery-public-data.iowa_liquor_sales.sales LIMIT 1000').to_dataframe()"
   ]
  },
  {
   "cell_type": "code",
   "execution_count": 4,
   "metadata": {},
   "outputs": [
    {
     "data": {
      "text/html": [
       "<div>\n",
       "<style scoped>\n",
       "    .dataframe tbody tr th:only-of-type {\n",
       "        vertical-align: middle;\n",
       "    }\n",
       "\n",
       "    .dataframe tbody tr th {\n",
       "        vertical-align: top;\n",
       "    }\n",
       "\n",
       "    .dataframe thead th {\n",
       "        text-align: right;\n",
       "    }\n",
       "</style>\n",
       "<table border=\"1\" class=\"dataframe\">\n",
       "  <thead>\n",
       "    <tr style=\"text-align: right;\">\n",
       "      <th></th>\n",
       "      <th>invoice_and_item_number</th>\n",
       "      <th>date</th>\n",
       "      <th>store_number</th>\n",
       "      <th>store_name</th>\n",
       "      <th>address</th>\n",
       "      <th>city</th>\n",
       "      <th>zip_code</th>\n",
       "      <th>store_location</th>\n",
       "      <th>county_number</th>\n",
       "      <th>county</th>\n",
       "      <th>...</th>\n",
       "      <th>item_number</th>\n",
       "      <th>item_description</th>\n",
       "      <th>pack</th>\n",
       "      <th>bottle_volume_ml</th>\n",
       "      <th>state_bottle_cost</th>\n",
       "      <th>state_bottle_retail</th>\n",
       "      <th>bottles_sold</th>\n",
       "      <th>sale_dollars</th>\n",
       "      <th>volume_sold_liters</th>\n",
       "      <th>volume_sold_gallons</th>\n",
       "    </tr>\n",
       "  </thead>\n",
       "  <tbody>\n",
       "    <tr>\n",
       "      <td>0</td>\n",
       "      <td>INV-21768300027</td>\n",
       "      <td>2019-09-09</td>\n",
       "      <td>2190</td>\n",
       "      <td>Central City Liquor, Inc.</td>\n",
       "      <td>1460 2ND AVE</td>\n",
       "      <td>Des Moines</td>\n",
       "      <td>50314</td>\n",
       "      <td>POINT (-93.619787 41.60566)</td>\n",
       "      <td>77</td>\n",
       "      <td>POLK</td>\n",
       "      <td>...</td>\n",
       "      <td>44487</td>\n",
       "      <td>Cruzan Dark</td>\n",
       "      <td>12</td>\n",
       "      <td>1000</td>\n",
       "      <td>8.39</td>\n",
       "      <td>12.59</td>\n",
       "      <td>2</td>\n",
       "      <td>25.18</td>\n",
       "      <td>2.00</td>\n",
       "      <td>0.52</td>\n",
       "    </tr>\n",
       "    <tr>\n",
       "      <td>1</td>\n",
       "      <td>S29395200028</td>\n",
       "      <td>2015-12-01</td>\n",
       "      <td>2465</td>\n",
       "      <td>Sid's Beverage Shop</td>\n",
       "      <td>2727 DODGE ST</td>\n",
       "      <td>DUBUQUE</td>\n",
       "      <td>52003</td>\n",
       "      <td>POINT (-90.705328 42.491862)</td>\n",
       "      <td>31</td>\n",
       "      <td>Dubuque</td>\n",
       "      <td>...</td>\n",
       "      <td>2140</td>\n",
       "      <td>Hennessy VS 750ml + VSOP 50ml Chain VAP</td>\n",
       "      <td>6</td>\n",
       "      <td>800</td>\n",
       "      <td>18.99</td>\n",
       "      <td>28.49</td>\n",
       "      <td>2</td>\n",
       "      <td>56.98</td>\n",
       "      <td>1.60</td>\n",
       "      <td>0.42</td>\n",
       "    </tr>\n",
       "    <tr>\n",
       "      <td>2</td>\n",
       "      <td>S33626500042</td>\n",
       "      <td>2016-07-28</td>\n",
       "      <td>5102</td>\n",
       "      <td>Wilkie Liquors</td>\n",
       "      <td>724 1st  St  SE</td>\n",
       "      <td>Mount Vernon</td>\n",
       "      <td>52314</td>\n",
       "      <td>POINT (-91.410401 41.918328)</td>\n",
       "      <td>57</td>\n",
       "      <td>Linn</td>\n",
       "      <td>...</td>\n",
       "      <td>86251</td>\n",
       "      <td>Juarez Triple Sec</td>\n",
       "      <td>12</td>\n",
       "      <td>1000</td>\n",
       "      <td>2.42</td>\n",
       "      <td>3.63</td>\n",
       "      <td>60</td>\n",
       "      <td>217.80</td>\n",
       "      <td>60.00</td>\n",
       "      <td>15.85</td>\n",
       "    </tr>\n",
       "    <tr>\n",
       "      <td>3</td>\n",
       "      <td>INV-00062700078</td>\n",
       "      <td>2016-08-31</td>\n",
       "      <td>2619</td>\n",
       "      <td>Hy-Vee Wine and Spirits / WDM</td>\n",
       "      <td>1725  74th St</td>\n",
       "      <td>West Des Moines</td>\n",
       "      <td>50266</td>\n",
       "      <td>POINT (-93.808855 41.598515)</td>\n",
       "      <td>77</td>\n",
       "      <td>POLK</td>\n",
       "      <td>...</td>\n",
       "      <td>37994</td>\n",
       "      <td>Smirnoff Vodka 80 Prf</td>\n",
       "      <td>24</td>\n",
       "      <td>375</td>\n",
       "      <td>4.75</td>\n",
       "      <td>7.13</td>\n",
       "      <td>1</td>\n",
       "      <td>171.12</td>\n",
       "      <td>0.37</td>\n",
       "      <td>0.09</td>\n",
       "    </tr>\n",
       "    <tr>\n",
       "      <td>4</td>\n",
       "      <td>S33756200027</td>\n",
       "      <td>2016-08-08</td>\n",
       "      <td>4461</td>\n",
       "      <td>QUIK TRIP #503 / WINDSOR HEIGHTS</td>\n",
       "      <td>7220 Hickman Rd</td>\n",
       "      <td>Windsor Heights</td>\n",
       "      <td>50324</td>\n",
       "      <td>POINT (-93.717442 41.614647)</td>\n",
       "      <td>77</td>\n",
       "      <td>Polk</td>\n",
       "      <td>...</td>\n",
       "      <td>56195</td>\n",
       "      <td>Paul Masson Peach Grande Amber Brandy</td>\n",
       "      <td>24</td>\n",
       "      <td>375</td>\n",
       "      <td>3.22</td>\n",
       "      <td>4.83</td>\n",
       "      <td>7</td>\n",
       "      <td>33.81</td>\n",
       "      <td>2.62</td>\n",
       "      <td>0.69</td>\n",
       "    </tr>\n",
       "  </tbody>\n",
       "</table>\n",
       "<p>5 rows × 24 columns</p>\n",
       "</div>"
      ],
      "text/plain": [
       "  invoice_and_item_number        date store_number  \\\n",
       "0         INV-21768300027  2019-09-09         2190   \n",
       "1            S29395200028  2015-12-01         2465   \n",
       "2            S33626500042  2016-07-28         5102   \n",
       "3         INV-00062700078  2016-08-31         2619   \n",
       "4            S33756200027  2016-08-08         4461   \n",
       "\n",
       "                         store_name          address             city  \\\n",
       "0         Central City Liquor, Inc.     1460 2ND AVE       Des Moines   \n",
       "1               Sid's Beverage Shop    2727 DODGE ST          DUBUQUE   \n",
       "2                    Wilkie Liquors  724 1st  St  SE     Mount Vernon   \n",
       "3     Hy-Vee Wine and Spirits / WDM    1725  74th St  West Des Moines   \n",
       "4  QUIK TRIP #503 / WINDSOR HEIGHTS  7220 Hickman Rd  Windsor Heights   \n",
       "\n",
       "  zip_code                store_location county_number   county  ...  \\\n",
       "0    50314   POINT (-93.619787 41.60566)            77     POLK  ...   \n",
       "1    52003  POINT (-90.705328 42.491862)            31  Dubuque  ...   \n",
       "2    52314  POINT (-91.410401 41.918328)            57     Linn  ...   \n",
       "3    50266  POINT (-93.808855 41.598515)            77     POLK  ...   \n",
       "4    50324  POINT (-93.717442 41.614647)            77     Polk  ...   \n",
       "\n",
       "  item_number                         item_description pack bottle_volume_ml  \\\n",
       "0       44487                              Cruzan Dark   12             1000   \n",
       "1        2140  Hennessy VS 750ml + VSOP 50ml Chain VAP    6              800   \n",
       "2       86251                        Juarez Triple Sec   12             1000   \n",
       "3       37994                    Smirnoff Vodka 80 Prf   24              375   \n",
       "4       56195    Paul Masson Peach Grande Amber Brandy   24              375   \n",
       "\n",
       "  state_bottle_cost state_bottle_retail  bottles_sold  sale_dollars  \\\n",
       "0              8.39               12.59             2         25.18   \n",
       "1             18.99               28.49             2         56.98   \n",
       "2              2.42                3.63            60        217.80   \n",
       "3              4.75                7.13             1        171.12   \n",
       "4              3.22                4.83             7         33.81   \n",
       "\n",
       "   volume_sold_liters  volume_sold_gallons  \n",
       "0                2.00                 0.52  \n",
       "1                1.60                 0.42  \n",
       "2               60.00                15.85  \n",
       "3                0.37                 0.09  \n",
       "4                2.62                 0.69  \n",
       "\n",
       "[5 rows x 24 columns]"
      ]
     },
     "execution_count": 4,
     "metadata": {},
     "output_type": "execute_result"
    }
   ],
   "source": [
    "df.head()"
   ]
  },
  {
   "cell_type": "code",
   "execution_count": 5,
   "metadata": {},
   "outputs": [],
   "source": [
    "%%bigquery --use_rest_api number_of_rows\n",
    "SELECT COUNT(*) AS n_rows FROM bigquery-public-data.iowa_liquor_sales.sales"
   ]
  },
  {
   "cell_type": "code",
   "execution_count": 6,
   "metadata": {},
   "outputs": [
    {
     "name": "stdout",
     "output_type": "stream",
     "text": [
      "Number of rows in dataset: 18334221\n",
      "Number of columns in dataset: 24\n"
     ]
    }
   ],
   "source": [
    "print(f'Number of rows in dataset: {number_of_rows.loc[0,\"n_rows\"]}\\nNumber of columns in dataset: {df.shape[1]}')"
   ]
  },
  {
   "cell_type": "markdown",
   "metadata": {},
   "source": [
    "The dataset contains almost 20 million rows of data.  \n",
    "Processing such datasets on a personal pc is not effective, so the analysis will be performed using SQL queries to google server and working with smaller batches of data."
   ]
  },
  {
   "cell_type": "code",
   "execution_count": 7,
   "metadata": {},
   "outputs": [
    {
     "name": "stdout",
     "output_type": "stream",
     "text": [
      "Index(['invoice_and_item_number', 'date', 'store_number', 'store_name',\n",
      "       'address', 'city', 'zip_code', 'store_location', 'county_number',\n",
      "       'county', 'category', 'category_name', 'vendor_number', 'vendor_name',\n",
      "       'item_number', 'item_description', 'pack', 'bottle_volume_ml',\n",
      "       'state_bottle_cost', 'state_bottle_retail', 'bottles_sold',\n",
      "       'sale_dollars', 'volume_sold_liters', 'volume_sold_gallons'],\n",
      "      dtype='object')\n"
     ]
    }
   ],
   "source": [
    "print(df.columns)"
   ]
  },
  {
   "cell_type": "markdown",
   "metadata": {},
   "source": [
    "**Columns of interest:**  \n",
    "- date - Date of order  \n",
    "- sore_number - Unique number assigned to the store who ordered the liquor  \n",
    "- city - City where the store who ordered the liquor is located\n",
    "- store_location - Location of store who ordered the liquor. The Address, City, State and Zip Code are geocoded to provide geographic coordinates.  \n",
    "- country - County where the store who ordered the liquor is located\n",
    "- category_name - Category of the liquor ordered.\n",
    "- vendor_name - The vendor number of the company for the brand of liquor ordered\n",
    "- item_description - Description of the individual liquor product ordered  \n",
    "- pack - The number of bottles in a case for the liquor ordered  \n",
    "- bottle_volume_ml - Volume of each liquor bottle ordered in milliliters  \n",
    "- state_bottle_cost - The amount that Alcoholic Beverages Division paid for each bottle of liquor ordered\n",
    "- state_bottle_retail - The amount the store paid for each bottle of liquor ordered   \n",
    "- bottles_sold - The number of bottles of liquor ordered by the store\n",
    "- sale_dollars - Total cost of liquor order (number of bottles multiplied by the state bottle retail)\n",
    "- volume_sold_liters - Total volume of liquor ordered in liters. (i.e. (Bottle Volume (ml) x Bottles Sold)/1,000)"
   ]
  },
  {
   "cell_type": "markdown",
   "metadata": {},
   "source": [
    "There are several categorical fields (store name, city, country, etc.).  \n",
    "Below, will be determined how many of unique items in each field"
   ]
  },
  {
   "cell_type": "code",
   "execution_count": 8,
   "metadata": {},
   "outputs": [],
   "source": [
    "cat_field = ['store_name', 'city', 'county', 'category_name', 'vendor_name', 'item_description',\n",
    "                   'pack', 'bottle_volume_ml']"
   ]
  },
  {
   "cell_type": "code",
   "execution_count": 9,
   "metadata": {},
   "outputs": [
    {
     "name": "stdout",
     "output_type": "stream",
     "text": [
      "           city  Number_of_transactions\n",
      "0    DES MOINES                  810741\n",
      "1    Des Moines                  795266\n",
      "2  CEDAR RAPIDS                  597307\n",
      "3  Cedar Rapids                  595081\n",
      "4     DAVENPORT                  410786\n"
     ]
    }
   ],
   "source": [
    "stat = {}\n",
    "for item in cat_field:\n",
    "    sql = f'''\n",
    "    SELECT {item},\n",
    "    COUNT({item}) AS Number_of_transactions\n",
    "    FROM bigquery-public-data.iowa_liquor_sales.sales\n",
    "    GROUP BY 1\n",
    "    ORDER BY 2 DESC\n",
    "    '''\n",
    "    stat[item] = client.query(sql).to_dataframe()\n",
    "print(stat['city'].head())"
   ]
  },
  {
   "cell_type": "markdown",
   "metadata": {},
   "source": [
    "Above we can see, that there are similar fields with a different cases.  \n",
    "In order to have fair statistics, such fields should be converted into a single format and grouped again."
   ]
  },
  {
   "cell_type": "code",
   "execution_count": 10,
   "metadata": {
    "scrolled": false
   },
   "outputs": [
    {
     "name": "stdout",
     "output_type": "stream",
     "text": [
      "\n",
      "store_name:\n",
      "Number of unique values: 2602.0\n",
      "Average number of transactions: 7046.0\n",
      "Number of transactions for 10 percentile: 128.0\n",
      "Number of transactions for 50 percentile: 2062.0\n",
      "Number of transactions for 90 percentile: 16959.0\n",
      "Number of transactions for top 10 items: 1088812 (which is 5.94% of total number)\n",
      "\n",
      "city:\n",
      "Number of unique values: 456.0\n",
      "Average number of transactions: 40032.0\n",
      "Number of transactions for 10 percentile: 514.0\n",
      "Number of transactions for 50 percentile: 7802.0\n",
      "Number of transactions for 90 percentile: 78028.0\n",
      "Number of transactions for top 10 items: 7274152 (which is 39.68% of total number)\n",
      "\n",
      "county:\n",
      "Number of unique values: 104.0\n",
      "Average number of transactions: 174787.0\n",
      "Number of transactions for 10 percentile: 24960.0\n",
      "Number of transactions for 50 percentile: 74074.0\n",
      "Number of transactions for 90 percentile: 272917.0\n",
      "Number of transactions for top 10 items: 10211306 (which is 55.7% of total number)\n",
      "\n",
      "category_name:\n",
      "Number of unique values: 109.0\n",
      "Average number of transactions: 167980.0\n",
      "Number of transactions for 10 percentile: 268.0\n",
      "Number of transactions for 50 percentile: 32369.0\n",
      "Number of transactions for 90 percentile: 434637.0\n",
      "Number of transactions for top 10 items: 9320692 (which is 50.84% of total number)\n",
      "\n",
      "vendor_name:\n",
      "Number of unique values: 446.0\n",
      "Average number of transactions: 41108.0\n",
      "Number of transactions for 10 percentile: 1.0\n",
      "Number of transactions for 50 percentile: 82.0\n",
      "Number of transactions for 90 percentile: 46612.0\n",
      "Number of transactions for top 10 items: 10755101 (which is 58.66% of total number)\n",
      "\n",
      "item_description:\n",
      "Number of unique values: 8438.0\n",
      "Average number of transactions: 2173.0\n",
      "Number of transactions for 10 percentile: 1.0\n",
      "Number of transactions for 50 percentile: 43.0\n",
      "Number of transactions for 90 percentile: 2997.0\n",
      "Number of transactions for top 10 items: 2524101 (which is 13.77% of total number)\n",
      "\n",
      "pack:\n",
      "Number of unique values: 27.0\n",
      "Average number of transactions: 65.0\n",
      "Number of transactions for 10 percentile: 4.0\n",
      "Number of transactions for 50 percentile: 20.0\n",
      "Number of transactions for 90 percentile: 211.0\n",
      "Number of transactions for top 10 items: 18314365 (which is 99.89% of total number)\n",
      "\n",
      "bottle_volume_ml:\n",
      "Number of unique values: 56.0\n",
      "Average number of transactions: 21882.0\n",
      "Number of transactions for 10 percentile: 75.0\n",
      "Number of transactions for 50 percentile: 1162.0\n",
      "Number of transactions for 90 percentile: 20250.0\n",
      "Number of transactions for top 10 items: 18181962 (which is 99.17% of total number)\n"
     ]
    }
   ],
   "source": [
    "top_10 = {}\n",
    "for item in cat_field:\n",
    "    \n",
    "    # Grouped cities in different cases\n",
    "    try:\n",
    "        stat[item][item] = stat[item][item].str.lower()\n",
    "        stat[item] = stat[item].groupby(by=[item]).sum().sort_values(\n",
    "            by='Number_of_transactions', ascending=False).reset_index()\n",
    "    except:\n",
    "        pass #Exceptin will be on numerical fields\n",
    "    \n",
    "    # Selected top 10 items\n",
    "    top_10[item] = stat[item].head(10)\n",
    "    top_10_number = round(top_10[item].Number_of_transactions.sum(),0)\n",
    "    \n",
    "    # General statistics for number of transactions\n",
    "    statistics = stat[item].describe(percentiles=[0.1, 0.25, 0.5, .75, .9])\n",
    "    \n",
    "    print(f'\\n{item}:')\n",
    "    print(f'Number of unique values: {round(statistics.loc[\"count\"].values[0],0)}')\n",
    "    print(f'Average number of transactions: {round(statistics.loc[\"mean\"].values[0],0)}')\n",
    "    print(f'Number of transactions for 10 percentile: {round(statistics.loc[\"10%\"].values[0],0)}')\n",
    "    print(f'Number of transactions for 50 percentile: {round(statistics.loc[\"50%\"].values[0],0)}')\n",
    "    print(f'Number of transactions for 90 percentile: {round(statistics.loc[\"90%\"].values[0],0)}')\n",
    "    print(f'Number of transactions for top 10 items: {top_10_number} (which is {round(top_10_number/number_of_rows.loc[0,\"n_rows\"]*100,2)}% of total number)')      "
   ]
  },
  {
   "cell_type": "markdown",
   "metadata": {},
   "source": [
    "_____________"
   ]
  },
  {
   "cell_type": "markdown",
   "metadata": {},
   "source": [
    "### Analysis of the data"
   ]
  },
  {
   "cell_type": "markdown",
   "metadata": {},
   "source": [
    "- Hystorical trend and seasonality"
   ]
  },
  {
   "cell_type": "code",
   "execution_count": 11,
   "metadata": {},
   "outputs": [
    {
     "name": "stdout",
     "output_type": "stream",
     "text": [
      "Wall time: 984 ms\n"
     ]
    }
   ],
   "source": [
    "%%time\n",
    "sql = '''\n",
    "SELECT \n",
    "    EXTRACT(YEAR FROM date) AS year,\n",
    "    EXTRACT(MONTH FROM date) AS month,\n",
    "    SUM(state_bottle_cost) AS state_bottle_cost,\n",
    "    SUM(state_bottle_retail) AS state_bottle_retail,\n",
    "    SUM(bottles_sold) AS bottles_sold,\n",
    "    SUM(sale_dollars) AS sale_dolars,\n",
    "    SUM(volume_sold_liters) AS volume_sold,\n",
    "FROM bigquery-public-data.iowa_liquor_sales.sales\n",
    "GROUP BY 1, 2\n",
    "'''\n",
    "\n",
    "sales_by_ym = client.query(sql).to_dataframe()"
   ]
  },
  {
   "cell_type": "code",
   "execution_count": 12,
   "metadata": {},
   "outputs": [],
   "source": [
    "sales_by_ym = sales_by_ym.sort_values(by=['year', 'month'])\n",
    "sales_by_ym['period'] = sales_by_ym.year.astype(str) +\"-\"+ sales_by_ym.month.astype(str)\n",
    "sales_by_ym.index = sales_by_ym.period"
   ]
  },
  {
   "cell_type": "code",
   "execution_count": 13,
   "metadata": {},
   "outputs": [],
   "source": [
    "years = sales_by_ym.groupby(by=['year']).agg({'sale_dolars':'sum', 'volume_sold':'sum'})\n",
    "months = sales_by_ym.groupby(by=['month']).agg({'sale_dolars':'mean', 'volume_sold':'mean'})"
   ]
  },
  {
   "cell_type": "code",
   "execution_count": 14,
   "metadata": {
    "scrolled": false
   },
   "outputs": [
    {
     "data": {
      "image/png": "[encoded data removed]",
      "text/plain": [
       "<Figure size 864x288 with 1 Axes>"
      ]
     },
     "metadata": {
      "needs_background": "light"
     },
     "output_type": "display_data"
    },
    {
     "data": {
      "image/png": "[encoded data removed]",
      "text/plain": [
       "<Figure size 864x288 with 1 Axes>"
      ]
     },
     "metadata": {
      "needs_background": "light"
     },
     "output_type": "display_data"
    },
    {
     "data": {
      "image/png": "[encoded data removed]",
      "text/plain": [
       "<Figure size 864x288 with 1 Axes>"
      ]
     },
     "metadata": {
      "needs_background": "light"
     },
     "output_type": "display_data"
    }
   ],
   "source": [
    "(years.sale_dolars/1000000).plot.bar(figsize=(12,4))\n",
    "plt.title('Sales USD by years')\n",
    "plt.show()\n",
    "\n",
    "(sales_by_ym.sale_dolars/1000000).plot(figsize=(12,4))\n",
    "plt.title('Sales in milions USD')\n",
    "plt.ylim(0, 40)\n",
    "plt.show()\n",
    "\n",
    "(sales_by_ym.volume_sold/1000000).plot(figsize=(12,4))\n",
    "plt.title('Sales in milions liters')\n",
    "plt.ylim(0,4)\n",
    "plt.show()"
   ]
  },
  {
   "cell_type": "markdown",
   "metadata": {},
   "source": [
    "From the chart above, we can see growing trend over years in both USD and litres and some variations for months.  \n",
    "Please see table below for pct changes year over year\n",
    "\n",
    "_2020 is still in progress_"
   ]
  },
  {
   "cell_type": "code",
   "execution_count": 15,
   "metadata": {},
   "outputs": [
    {
     "data": {
      "text/html": [
       "<div>\n",
       "<style scoped>\n",
       "    .dataframe tbody tr th:only-of-type {\n",
       "        vertical-align: middle;\n",
       "    }\n",
       "\n",
       "    .dataframe tbody tr th {\n",
       "        vertical-align: top;\n",
       "    }\n",
       "\n",
       "    .dataframe thead th {\n",
       "        text-align: right;\n",
       "    }\n",
       "</style>\n",
       "<table border=\"1\" class=\"dataframe\">\n",
       "  <thead>\n",
       "    <tr style=\"text-align: right;\">\n",
       "      <th></th>\n",
       "      <th>sale_dolars</th>\n",
       "      <th>volume_sold</th>\n",
       "    </tr>\n",
       "    <tr>\n",
       "      <th>year</th>\n",
       "      <th></th>\n",
       "      <th></th>\n",
       "    </tr>\n",
       "  </thead>\n",
       "  <tbody>\n",
       "    <tr>\n",
       "      <td>2012.0</td>\n",
       "      <td>NaN</td>\n",
       "      <td>NaN</td>\n",
       "    </tr>\n",
       "    <tr>\n",
       "      <td>2013.0</td>\n",
       "      <td>1.1348</td>\n",
       "      <td>-0.9594</td>\n",
       "    </tr>\n",
       "    <tr>\n",
       "      <td>2014.0</td>\n",
       "      <td>4.8376</td>\n",
       "      <td>3.1392</td>\n",
       "    </tr>\n",
       "    <tr>\n",
       "      <td>2015.0</td>\n",
       "      <td>5.0788</td>\n",
       "      <td>2.3994</td>\n",
       "    </tr>\n",
       "    <tr>\n",
       "      <td>2016.0</td>\n",
       "      <td>5.3685</td>\n",
       "      <td>3.5314</td>\n",
       "    </tr>\n",
       "    <tr>\n",
       "      <td>2017.0</td>\n",
       "      <td>5.0387</td>\n",
       "      <td>3.9255</td>\n",
       "    </tr>\n",
       "    <tr>\n",
       "      <td>2018.0</td>\n",
       "      <td>6.1765</td>\n",
       "      <td>3.7077</td>\n",
       "    </tr>\n",
       "    <tr>\n",
       "      <td>2019.0</td>\n",
       "      <td>1.0448</td>\n",
       "      <td>-1.2269</td>\n",
       "    </tr>\n",
       "    <tr>\n",
       "      <td>2020.0</td>\n",
       "      <td>-70.4877</td>\n",
       "      <td>-71.4984</td>\n",
       "    </tr>\n",
       "  </tbody>\n",
       "</table>\n",
       "</div>"
      ],
      "text/plain": [
       "        sale_dolars  volume_sold\n",
       "year                            \n",
       "2012.0          NaN          NaN\n",
       "2013.0       1.1348      -0.9594\n",
       "2014.0       4.8376       3.1392\n",
       "2015.0       5.0788       2.3994\n",
       "2016.0       5.3685       3.5314\n",
       "2017.0       5.0387       3.9255\n",
       "2018.0       6.1765       3.7077\n",
       "2019.0       1.0448      -1.2269\n",
       "2020.0     -70.4877     -71.4984"
      ]
     },
     "execution_count": 15,
     "metadata": {},
     "output_type": "execute_result"
    }
   ],
   "source": [
    "round(years.pct_change()*100,4)"
   ]
  },
  {
   "cell_type": "code",
   "execution_count": 16,
   "metadata": {},
   "outputs": [
    {
     "data": {
      "image/png": "[encoded data removed]",
      "text/plain": [
       "<Figure size 720x288 with 1 Axes>"
      ]
     },
     "metadata": {
      "needs_background": "light"
     },
     "output_type": "display_data"
    },
    {
     "data": {
      "image/png": "[encoded data removed]",
      "text/plain": [
       "<Figure size 720x288 with 1 Axes>"
      ]
     },
     "metadata": {
      "needs_background": "light"
     },
     "output_type": "display_data"
    }
   ],
   "source": [
    "(months.sale_dolars/1000000).plot(figsize=(10,4))\n",
    "plt.title('Average monthly sales in milions USD')\n",
    "plt.plot([(months.sale_dolars/1000000).mean()]*13, label = 'year average')\n",
    "plt.ylim(0, 40)\n",
    "plt.legend()\n",
    "plt.show()\n",
    "\n",
    "(months.volume_sold/1000000).plot(figsize=(10,4))\n",
    "plt.plot([(months.volume_sold/1000000).mean()]*13, label = 'year average')\n",
    "plt.title('Average monthly sales in milions liters')\n",
    "plt.ylim(0,4)\n",
    "plt.legend()\n",
    "plt.show()"
   ]
  },
  {
   "cell_type": "code",
   "execution_count": 17,
   "metadata": {},
   "outputs": [
    {
     "name": "stdout",
     "output_type": "stream",
     "text": [
      "Deviation of average montly revenue from year average\n",
      "month\n",
      "1.0      80.26\n",
      "2.0      86.77\n",
      "3.0      90.49\n",
      "4.0      95.60\n",
      "5.0     107.41\n",
      "6.0     109.90\n",
      "7.0      89.57\n",
      "8.0     100.66\n",
      "9.0      95.10\n",
      "10.0    124.63\n",
      "11.0     99.63\n",
      "12.0    119.98\n",
      "Name: sale_dolars, dtype: float64\n"
     ]
    }
   ],
   "source": [
    "# Deviation from  mean value:\n",
    "print('Deviation of average montly revenue from year average')\n",
    "print(round(months.sale_dolars / months.sale_dolars.mean()*100,2))"
   ]
  },
  {
   "cell_type": "markdown",
   "metadata": {},
   "source": [
    "**Seasonality**  \n",
    "From the chart above, we can see that October and December are months with maximum volume.  \n",
    "Also, May and June show an increase in sales, however, it is less significant than above mentioned months.  \n",
    "The lowest volume shows the first quarter of the year.  \n",
    "  \n",
    "Conclusion: seasonality exists and should be considered in business planning processes."
   ]
  },
  {
   "cell_type": "markdown",
   "metadata": {},
   "source": [
    "_____________________"
   ]
  },
  {
   "cell_type": "markdown",
   "metadata": {},
   "source": [
    "##### Stores analysis\n",
    "- Revenue concentration by stores  \n",
    "- Top gainers  \n",
    "- Top losers"
   ]
  },
  {
   "cell_type": "code",
   "execution_count": 18,
   "metadata": {},
   "outputs": [
    {
     "name": "stdout",
     "output_type": "stream",
     "text": [
      "Wall time: 2.38 s\n"
     ]
    }
   ],
   "source": [
    "%%time\n",
    "sql = '''\n",
    "SELECT \n",
    "    EXTRACT(YEAR FROM date) AS year,\n",
    "    store_name,\n",
    "    SUM(state_bottle_cost) AS state_bottle_cost,\n",
    "    SUM(state_bottle_retail) AS state_bottle_retail,\n",
    "    SUM(bottles_sold) AS bottles_sold,\n",
    "    SUM(sale_dollars) AS sale_dolars,\n",
    "    SUM(volume_sold_liters) AS volume_sold,\n",
    "FROM bigquery-public-data.iowa_liquor_sales.sales\n",
    "GROUP BY 1, 2\n",
    "'''\n",
    "\n",
    "sales_by_ym_stores = client.query(sql).to_dataframe()"
   ]
  },
  {
   "cell_type": "code",
   "execution_count": 19,
   "metadata": {},
   "outputs": [],
   "source": [
    "sales_by_ym_stores['store_name'] = sales_by_ym_stores['store_name'].str.lower()"
   ]
  },
  {
   "cell_type": "code",
   "execution_count": 20,
   "metadata": {},
   "outputs": [],
   "source": [
    "stores_pivot = sales_by_ym_stores.pivot_table(index='store_name', columns='year', values='sale_dolars', aggfunc=sum).fillna(0).sort_values(\n",
    "    by=2020, ascending=False)"
   ]
  },
  {
   "cell_type": "markdown",
   "metadata": {},
   "source": [
    "Below, will be analyzed revenue share of top 10 stores for 2020. "
   ]
  },
  {
   "cell_type": "code",
   "execution_count": 21,
   "metadata": {},
   "outputs": [
    {
     "data": {
      "text/html": [
       "<div>\n",
       "<style scoped>\n",
       "    .dataframe tbody tr th:only-of-type {\n",
       "        vertical-align: middle;\n",
       "    }\n",
       "\n",
       "    .dataframe tbody tr th {\n",
       "        vertical-align: top;\n",
       "    }\n",
       "\n",
       "    .dataframe thead th {\n",
       "        text-align: right;\n",
       "    }\n",
       "</style>\n",
       "<table border=\"1\" class=\"dataframe\">\n",
       "  <thead>\n",
       "    <tr style=\"text-align: right;\">\n",
       "      <th>year</th>\n",
       "      <th>2012.0</th>\n",
       "      <th>2013.0</th>\n",
       "      <th>2014.0</th>\n",
       "      <th>2015.0</th>\n",
       "      <th>2016.0</th>\n",
       "      <th>2017.0</th>\n",
       "      <th>2018.0</th>\n",
       "      <th>2019.0</th>\n",
       "      <th>2020.0</th>\n",
       "    </tr>\n",
       "    <tr>\n",
       "      <th>store_name</th>\n",
       "      <th></th>\n",
       "      <th></th>\n",
       "      <th></th>\n",
       "      <th></th>\n",
       "      <th></th>\n",
       "      <th></th>\n",
       "      <th></th>\n",
       "      <th></th>\n",
       "      <th></th>\n",
       "    </tr>\n",
       "  </thead>\n",
       "  <tbody>\n",
       "    <tr>\n",
       "      <td>central city 2</td>\n",
       "      <td>595264.29</td>\n",
       "      <td>7337079.98</td>\n",
       "      <td>7955353.76</td>\n",
       "      <td>8742764.83</td>\n",
       "      <td>9331221.97</td>\n",
       "      <td>10113528.88</td>\n",
       "      <td>10526107.02</td>\n",
       "      <td>11505337.01</td>\n",
       "      <td>1853903.32</td>\n",
       "    </tr>\n",
       "    <tr>\n",
       "      <td>hy-vee #3 / bdi / des moines</td>\n",
       "      <td>8866541.94</td>\n",
       "      <td>8718451.37</td>\n",
       "      <td>9248505.59</td>\n",
       "      <td>9839393.08</td>\n",
       "      <td>10311583.19</td>\n",
       "      <td>10575119.32</td>\n",
       "      <td>11074051.37</td>\n",
       "      <td>10885938.89</td>\n",
       "      <td>1613847.06</td>\n",
       "    </tr>\n",
       "    <tr>\n",
       "      <td>costco wholesale #788 / wdm</td>\n",
       "      <td>0.00</td>\n",
       "      <td>0.00</td>\n",
       "      <td>0.00</td>\n",
       "      <td>0.00</td>\n",
       "      <td>0.00</td>\n",
       "      <td>0.00</td>\n",
       "      <td>2801675.96</td>\n",
       "      <td>3055715.58</td>\n",
       "      <td>1196554.26</td>\n",
       "    </tr>\n",
       "    <tr>\n",
       "      <td>hy-vee wine and spirits / iowa city</td>\n",
       "      <td>3388919.89</td>\n",
       "      <td>3481456.72</td>\n",
       "      <td>3866876.85</td>\n",
       "      <td>4155665.47</td>\n",
       "      <td>4424016.29</td>\n",
       "      <td>4716000.21</td>\n",
       "      <td>4584842.07</td>\n",
       "      <td>4842806.83</td>\n",
       "      <td>916913.73</td>\n",
       "    </tr>\n",
       "    <tr>\n",
       "      <td>hy-vee wine and spirits / wdm</td>\n",
       "      <td>1691098.74</td>\n",
       "      <td>1332129.17</td>\n",
       "      <td>1411306.69</td>\n",
       "      <td>1646447.23</td>\n",
       "      <td>1806484.93</td>\n",
       "      <td>1967935.47</td>\n",
       "      <td>2218696.01</td>\n",
       "      <td>2248874.03</td>\n",
       "      <td>693019.73</td>\n",
       "    </tr>\n",
       "    <tr>\n",
       "      <td>central city liquor, inc.</td>\n",
       "      <td>7376698.34</td>\n",
       "      <td>969511.14</td>\n",
       "      <td>1323441.72</td>\n",
       "      <td>1228571.74</td>\n",
       "      <td>1472957.28</td>\n",
       "      <td>1569202.60</td>\n",
       "      <td>1752278.45</td>\n",
       "      <td>2022535.35</td>\n",
       "      <td>674648.39</td>\n",
       "    </tr>\n",
       "    <tr>\n",
       "      <td>hy-vee #3 food &amp; drugstore / davenport</td>\n",
       "      <td>0.00</td>\n",
       "      <td>0.00</td>\n",
       "      <td>0.00</td>\n",
       "      <td>0.00</td>\n",
       "      <td>0.00</td>\n",
       "      <td>133878.89</td>\n",
       "      <td>1995884.74</td>\n",
       "      <td>1708775.66</td>\n",
       "      <td>663923.70</td>\n",
       "    </tr>\n",
       "    <tr>\n",
       "      <td>wilkie liquors</td>\n",
       "      <td>2350732.53</td>\n",
       "      <td>2048153.02</td>\n",
       "      <td>1784583.27</td>\n",
       "      <td>2087515.67</td>\n",
       "      <td>2617138.14</td>\n",
       "      <td>3024727.67</td>\n",
       "      <td>3258534.10</td>\n",
       "      <td>3563048.00</td>\n",
       "      <td>648242.64</td>\n",
       "    </tr>\n",
       "    <tr>\n",
       "      <td>hy-vee / waukee</td>\n",
       "      <td>0.00</td>\n",
       "      <td>534155.06</td>\n",
       "      <td>1141552.32</td>\n",
       "      <td>1382083.41</td>\n",
       "      <td>1738198.69</td>\n",
       "      <td>1944954.17</td>\n",
       "      <td>2251627.54</td>\n",
       "      <td>2239593.20</td>\n",
       "      <td>647270.04</td>\n",
       "    </tr>\n",
       "    <tr>\n",
       "      <td>benz distributing</td>\n",
       "      <td>2097502.84</td>\n",
       "      <td>2168312.72</td>\n",
       "      <td>2085619.98</td>\n",
       "      <td>2297121.49</td>\n",
       "      <td>2456562.45</td>\n",
       "      <td>2576946.37</td>\n",
       "      <td>2867852.46</td>\n",
       "      <td>2993763.45</td>\n",
       "      <td>638323.98</td>\n",
       "    </tr>\n",
       "  </tbody>\n",
       "</table>\n",
       "</div>"
      ],
      "text/plain": [
       "year                                        2012.0      2013.0      2014.0  \\\n",
       "store_name                                                                   \n",
       "central city 2                           595264.29  7337079.98  7955353.76   \n",
       "hy-vee #3 / bdi / des moines            8866541.94  8718451.37  9248505.59   \n",
       "costco wholesale #788 / wdm                   0.00        0.00        0.00   \n",
       "hy-vee wine and spirits / iowa city     3388919.89  3481456.72  3866876.85   \n",
       "hy-vee wine and spirits / wdm           1691098.74  1332129.17  1411306.69   \n",
       "central city liquor, inc.               7376698.34   969511.14  1323441.72   \n",
       "hy-vee #3 food & drugstore / davenport        0.00        0.00        0.00   \n",
       "wilkie liquors                          2350732.53  2048153.02  1784583.27   \n",
       "hy-vee / waukee                               0.00   534155.06  1141552.32   \n",
       "benz distributing                       2097502.84  2168312.72  2085619.98   \n",
       "\n",
       "year                                        2015.0       2016.0       2017.0  \\\n",
       "store_name                                                                     \n",
       "central city 2                          8742764.83   9331221.97  10113528.88   \n",
       "hy-vee #3 / bdi / des moines            9839393.08  10311583.19  10575119.32   \n",
       "costco wholesale #788 / wdm                   0.00         0.00         0.00   \n",
       "hy-vee wine and spirits / iowa city     4155665.47   4424016.29   4716000.21   \n",
       "hy-vee wine and spirits / wdm           1646447.23   1806484.93   1967935.47   \n",
       "central city liquor, inc.               1228571.74   1472957.28   1569202.60   \n",
       "hy-vee #3 food & drugstore / davenport        0.00         0.00    133878.89   \n",
       "wilkie liquors                          2087515.67   2617138.14   3024727.67   \n",
       "hy-vee / waukee                         1382083.41   1738198.69   1944954.17   \n",
       "benz distributing                       2297121.49   2456562.45   2576946.37   \n",
       "\n",
       "year                                         2018.0       2019.0      2020.0  \n",
       "store_name                                                                    \n",
       "central city 2                          10526107.02  11505337.01  1853903.32  \n",
       "hy-vee #3 / bdi / des moines            11074051.37  10885938.89  1613847.06  \n",
       "costco wholesale #788 / wdm              2801675.96   3055715.58  1196554.26  \n",
       "hy-vee wine and spirits / iowa city      4584842.07   4842806.83   916913.73  \n",
       "hy-vee wine and spirits / wdm            2218696.01   2248874.03   693019.73  \n",
       "central city liquor, inc.                1752278.45   2022535.35   674648.39  \n",
       "hy-vee #3 food & drugstore / davenport   1995884.74   1708775.66   663923.70  \n",
       "wilkie liquors                           3258534.10   3563048.00   648242.64  \n",
       "hy-vee / waukee                          2251627.54   2239593.20   647270.04  \n",
       "benz distributing                        2867852.46   2993763.45   638323.98  "
      ]
     },
     "execution_count": 21,
     "metadata": {},
     "output_type": "execute_result"
    }
   ],
   "source": [
    "stores_pivot.head(10)"
   ]
  },
  {
   "cell_type": "code",
   "execution_count": 22,
   "metadata": {},
   "outputs": [],
   "source": [
    "top_10_shares_2020 = round(stores_pivot[2020] / years.loc[2020, 'sale_dolars']*100,2)"
   ]
  },
  {
   "cell_type": "code",
   "execution_count": 23,
   "metadata": {},
   "outputs": [
    {
     "name": "stdout",
     "output_type": "stream",
     "text": [
      "store_name\n",
      "central city 2                            1.86\n",
      "hy-vee #3 / bdi / des moines              1.62\n",
      "costco wholesale #788 / wdm               1.20\n",
      "hy-vee wine and spirits / iowa city       0.92\n",
      "hy-vee wine and spirits / wdm             0.70\n",
      "central city liquor, inc.                 0.68\n",
      "hy-vee #3 food & drugstore / davenport    0.67\n",
      "wilkie liquors                            0.65\n",
      "hy-vee / waukee                           0.65\n",
      "benz distributing                         0.64\n",
      "Name: 2020.0, dtype: float64\n",
      "\n",
      " Revenue share for top 10 stores: 9.590000000000002%\n"
     ]
    }
   ],
   "source": [
    "print(top_10_shares_2020.head(10))\n",
    "print(f'\\n Revenue share for top 10 stores: {top_10_shares_2020.head(10).sum()}%')"
   ]
  },
  {
   "cell_type": "markdown",
   "metadata": {},
   "source": [
    "There is no revenue concentration on single store. For 2020 year to date, maximum share of revenue for single store is about 2.2%. "
   ]
  },
  {
   "cell_type": "markdown",
   "metadata": {},
   "source": [
    "Next, we will find the top 5 stores by revenue increase and top 5 by revenue decrease during the period 2018 - 2019.  \n",
    "Such information might be useful for finding opportunities and threads in customer structure."
   ]
  },
  {
   "cell_type": "code",
   "execution_count": 24,
   "metadata": {},
   "outputs": [],
   "source": [
    "stores_pivot['pct_change_18_19'] = round(stores_pivot[2019] / stores_pivot[2018] -1, 4) * 100\n",
    "# Will be selected only stores with sales in 2018 and 2019\n",
    "selected_stores = stores_pivot[(stores_pivot[2018] != 0)&(stores_pivot[2019] != 0)]"
   ]
  },
  {
   "cell_type": "code",
   "execution_count": 25,
   "metadata": {
    "scrolled": false
   },
   "outputs": [
    {
     "name": "stdout",
     "output_type": "stream",
     "text": [
      "Top 5 stores by revenue INCREASE: \n",
      "\n",
      "year                                 2018.0     2019.0  pct_change_18_19\n",
      "store_name                                                              \n",
      "one stop shop #3 / algona             45.00  131879.72         292966.04\n",
      "price chopper  /  beaver #1310     12118.48  274565.99           2165.68\n",
      "westside petro                      3460.74   63536.20           1735.91\n",
      "jiffy #926 / spirit lake           16084.76  286864.53           1683.46\n",
      "price chopper  /  merle hay #1315  28505.97  410635.32           1340.52\n",
      "\n",
      "Top 5 stores by revenue DECREASE: \n",
      "\n",
      "year                                           2018.0    2019.0  \\\n",
      "store_name                                                        \n",
      "williamsburg foods                          155071.53  12126.21   \n",
      "quillins quality foods postville             29757.13   2254.54   \n",
      "keystone liquor & wine / coralville         319758.13  22642.77   \n",
      "smokin' joe's #3 tobacco and liquor outlet  139513.49   8521.63   \n",
      "smokin' joe's #9 tobacco and liquor outlet   41649.26   2293.19   \n",
      "\n",
      "year                                        pct_change_18_19  \n",
      "store_name                                                    \n",
      "williamsburg foods                                    -92.18  \n",
      "quillins quality foods postville                      -92.42  \n",
      "keystone liquor & wine / coralville                   -92.92  \n",
      "smokin' joe's #3 tobacco and liquor outlet            -93.89  \n",
      "smokin' joe's #9 tobacco and liquor outlet            -94.49  \n"
     ]
    }
   ],
   "source": [
    "print(f'Top 5 stores by revenue INCREASE: \\n')\n",
    "print(selected_stores.sort_values(by='pct_change_18_19', ascending=False)[[2018, 2019, 'pct_change_18_19']].head(5))\n",
    "print()\n",
    "print(f'Top 5 stores by revenue DECREASE: \\n')\n",
    "print(selected_stores.sort_values(by='pct_change_18_19', ascending=False)[[2018, 2019, 'pct_change_18_19']].tail(5))"
   ]
  },
  {
   "cell_type": "markdown",
   "metadata": {},
   "source": [
    "_____________________"
   ]
  },
  {
   "cell_type": "markdown",
   "metadata": {},
   "source": [
    "### The most popular bottle volume"
   ]
  },
  {
   "cell_type": "code",
   "execution_count": 26,
   "metadata": {},
   "outputs": [
    {
     "name": "stdout",
     "output_type": "stream",
     "text": [
      "Wall time: 1.04 s\n"
     ]
    }
   ],
   "source": [
    "%%time\n",
    "sql = '''\n",
    "SELECT \n",
    "    EXTRACT(YEAR FROM date) AS year,\n",
    "    bottle_volume_ml,\n",
    "    SUM(bottles_sold) AS bottles_sold,\n",
    "    SUM(sale_dollars) AS sale_dolars,\n",
    "    SUM(volume_sold_liters) AS volume_sold,\n",
    "FROM bigquery-public-data.iowa_liquor_sales.sales\n",
    "GROUP BY 1, 2\n",
    "'''\n",
    "\n",
    "sales_by_bottles_y = client.query(sql).to_dataframe()"
   ]
  },
  {
   "cell_type": "code",
   "execution_count": 27,
   "metadata": {},
   "outputs": [],
   "source": [
    "bottles_pivot = sales_by_bottles_y.pivot_table(index='bottle_volume_ml', columns='year', values='bottles_sold', aggfunc=sum).fillna(0)"
   ]
  },
  {
   "cell_type": "code",
   "execution_count": 28,
   "metadata": {},
   "outputs": [
    {
     "name": "stdout",
     "output_type": "stream",
     "text": [
      "1. Bottle size - 750.0ml: sold in 2019: 8665508.0 (33.35%)\n",
      "2. Bottle size - 1000.0ml: sold in 2019: 4714614.0 (18.14%)\n",
      "3. Bottle size - 1750.0ml: sold in 2019: 4690916.0 (18.05%)\n",
      "4. Bottle size - 375.0ml: sold in 2019: 3088192.0 (11.88%)\n",
      "5. Bottle size - 100.0ml: sold in 2019: 2069673.0 (7.97%)\n"
     ]
    }
   ],
   "source": [
    "total_bottles_sold_19 = bottles_pivot[2019].sum()\n",
    "i = 1\n",
    "for idx, row in bottles_pivot.sort_values(by=2019, ascending=False).head().iterrows():\n",
    "    print(f'{i}. Bottle size - {idx}ml: sold in 2019: {row[2019]} ({round(row[2019]/total_bottles_sold_19 * 100,2)}%)')\n",
    "    i += 1"
   ]
  },
  {
   "cell_type": "code",
   "execution_count": 29,
   "metadata": {},
   "outputs": [],
   "source": [
    "bottles_pivot_shares = bottles_pivot / bottles_pivot.sum()"
   ]
  },
  {
   "cell_type": "code",
   "execution_count": 30,
   "metadata": {
    "scrolled": false
   },
   "outputs": [
    {
     "data": {
      "image/png": "[encoded data removed]",
      "text/plain": [
       "<Figure size 1152x576 with 1 Axes>"
      ]
     },
     "metadata": {
      "needs_background": "light"
     },
     "output_type": "display_data"
    }
   ],
   "source": [
    "bottles_pivot_shares.sort_values(by=2019, ascending=False).head().plot.bar(figsize=(16,8))\n",
    "plt.title('Share of bottles sold by bottle volume')\n",
    "plt.xlabel('bottle volume')\n",
    "plt.ylabel('share of total number of bottles sold by the year')\n",
    "plt.show()"
   ]
  },
  {
   "cell_type": "markdown",
   "metadata": {},
   "source": [
    "From the chart above, we can see that the most popular bottle volume is 750ml, however, the trend of such format is in decline (the similar situation for the second most popular format - 1000 ml)  \n",
    "At the same time, we can see that smaller volumes (100ml and 375ml) are becoming more popular.\n"
   ]
  },
  {
   "cell_type": "markdown",
   "metadata": {},
   "source": [
    "### Top items by volume sold"
   ]
  },
  {
   "cell_type": "code",
   "execution_count": 31,
   "metadata": {},
   "outputs": [
    {
     "name": "stdout",
     "output_type": "stream",
     "text": [
      "Wall time: 3.13 s\n"
     ]
    }
   ],
   "source": [
    "%%time\n",
    "sql = '''\n",
    "SELECT \n",
    "    EXTRACT(YEAR FROM date) AS year,\n",
    "    item_description,\n",
    "    SUM(bottles_sold) AS bottles_sold,\n",
    "    SUM(sale_dollars) AS sale_dolars,\n",
    "    SUM(volume_sold_liters) AS volume_sold,\n",
    "FROM bigquery-public-data.iowa_liquor_sales.sales\n",
    "GROUP BY 1, 2\n",
    "'''\n",
    "\n",
    "sales_by_items_y = client.query(sql).to_dataframe()"
   ]
  },
  {
   "cell_type": "code",
   "execution_count": 32,
   "metadata": {},
   "outputs": [],
   "source": [
    "sales_by_items_y.item_description = sales_by_items_y.item_description.str.lower()\n",
    "items_pivot = sales_by_items_y.dropna().pivot_table(index='item_description', columns='year', values='volume_sold', aggfunc=sum)\\\n",
    "    .fillna(0).sort_values(by=2019, ascending=False)"
   ]
  },
  {
   "cell_type": "code",
   "execution_count": 33,
   "metadata": {},
   "outputs": [
    {
     "data": {
      "image/png": "[encoded data removed]",
      "text/plain": [
       "<Figure size 1152x288 with 1 Axes>"
      ]
     },
     "metadata": {
      "needs_background": "light"
     },
     "output_type": "display_data"
    },
    {
     "name": "stdout",
     "output_type": "stream",
     "text": [
      "year                             2019  change_19_12_pct\n",
      "item_description                                       \n",
      "black velvet               1336640.48            115.94\n",
      "titos handmade vodka        945500.38          11226.55\n",
      "hawkeye vodka               868438.24             94.56\n",
      "fireball cinnamon whiskey   462554.60            321.88\n",
      "five o'clock vodka          408218.27             77.74\n"
     ]
    }
   ],
   "source": [
    "items_pivot.head(5).loc[:,2012:2019].T.plot(figsize=(16,4))\n",
    "plt.show()\n",
    "items_pivot['change_19_12_pct'] = round(items_pivot[2019] / items_pivot[2012] * 100, 2)\n",
    "print(items_pivot.loc[:,[2019, 'change_19_12_pct']].head(5))"
   ]
  },
  {
   "cell_type": "markdown",
   "metadata": {},
   "source": [
    "_2020 was excluded as it is still in progress_  \n",
    "Black velvet is stable #1 item in terms of volume sold with increase of 115% in volumes sold during the period 2012 - 2019.    \n",
    "#2 item - titos handmade vodka  - shows the highest growth (over 11000% during the period 2012 - 2019). For sure it should be considered as case study before launching a new product.  \n",
    "Other items in top 5 have relatively stable position."
   ]
  },
  {
   "cell_type": "markdown",
   "metadata": {},
   "source": [
    "### Top vendor by volume sold"
   ]
  },
  {
   "cell_type": "code",
   "execution_count": 34,
   "metadata": {
    "scrolled": true
   },
   "outputs": [
    {
     "name": "stdout",
     "output_type": "stream",
     "text": [
      "Wall time: 2.15 s\n"
     ]
    }
   ],
   "source": [
    "%%time\n",
    "sql = '''\n",
    "SELECT \n",
    "    EXTRACT(YEAR FROM date) AS year,\n",
    "    vendor_number,\n",
    "    SUM(bottles_sold) AS bottles_sold,\n",
    "    SUM(sale_dollars) AS sale_dolars,\n",
    "    SUM(volume_sold_liters) AS volume_sold,\n",
    "FROM bigquery-public-data.iowa_liquor_sales.sales\n",
    "GROUP BY 1, 2\n",
    "'''\n",
    "\n",
    "sales_by_vendors_y = client.query(sql).to_dataframe()\n",
    "\n",
    "sql = '''\n",
    "SELECT\n",
    "    DISTINCT(vendor_number),\n",
    "    vendor_name\n",
    "FROM bigquery-public-data.iowa_liquor_sales.sales\n",
    "'''\n",
    "vendors_dict = client.query(sql).to_dataframe()"
   ]
  },
  {
   "cell_type": "code",
   "execution_count": 35,
   "metadata": {},
   "outputs": [],
   "source": [
    "sales_by_vendors_y = sales_by_vendors_y.dropna()\n",
    "vendors_dict = vendors_dict.dropna()\n",
    "sales_by_vendors_y.vendor_number = sales_by_vendors_y.vendor_number.astype(int)\n",
    "vendors_dict.vendor_number = vendors_dict.vendor_number.astype(int)"
   ]
  },
  {
   "cell_type": "code",
   "execution_count": 36,
   "metadata": {},
   "outputs": [],
   "source": [
    "vendors_dict = vendors_dict.drop_duplicates('vendor_number')"
   ]
  },
  {
   "cell_type": "code",
   "execution_count": 37,
   "metadata": {},
   "outputs": [],
   "source": [
    "vendor_pivot = sales_by_vendors_y.pivot_table(index='vendor_number', columns='year', values='volume_sold', aggfunc=sum)\\\n",
    "    .sort_values(by=2019, ascending=False)\n",
    "vendor_pivot = pd.merge(left=vendor_pivot, right=vendors_dict, left_index=True, right_on='vendor_number', how='left')\n",
    "vendor_pivot.index = vendor_pivot.vendor_name\n",
    "vendor_pivot = vendor_pivot.drop(columns=['vendor_number', 'vendor_name'])"
   ]
  },
  {
   "cell_type": "code",
   "execution_count": 38,
   "metadata": {},
   "outputs": [
    {
     "data": {
      "image/png": "[encoded data removed]",
      "text/plain": [
       "<Figure size 1152x288 with 1 Axes>"
      ]
     },
     "metadata": {
      "needs_background": "light"
     },
     "output_type": "display_data"
    },
    {
     "name": "stdout",
     "output_type": "stream",
     "text": [
      "                                2019  change_19_12_pct\n",
      "vendor_name                                           \n",
      "DIAGEO AMERICAS           3242099.08              3.38\n",
      "SAZERAC COMPANY  INC      2235576.48            179.99\n",
      "LUXCO INC                 2171116.05            -17.98\n",
      "CONSTELLATION BRANDS INC  1749934.24             18.99\n",
      "Jim Beam Brands           1548343.71             -2.66\n"
     ]
    }
   ],
   "source": [
    "vendor_pivot.iloc[:,:8].head(5).T.plot(figsize=(16,4))\n",
    "plt.legend(loc=2)\n",
    "plt.show()\n",
    "vendor_pivot['change_19_12_pct'] = round(vendor_pivot[2019] / vendor_pivot[2012] * 100 - 100, 2)\n",
    "print(vendor_pivot.loc[:,[2019, 'change_19_12_pct']].head(5))"
   ]
  },
  {
   "cell_type": "markdown",
   "metadata": {},
   "source": [
    "Historically, the most popular vendors are \"Diageo Americas\". Diageo Americas produce Black velvet (#1 item by volume sold), so it is not a surprise, that such a brand is the most popular.   \n",
    "#2 - SAZERAC COMPANY  INC - shows the highest increase during the period 2012-2019 (+179%), while LUXCO INC and Jim Beam Brands declined by 18% and 3% respectively.\n"
   ]
  }
 ],
 "metadata": {
  "kernelspec": {
   "display_name": "Python 3",
   "language": "python",
   "name": "python3"
  },
  "language_info": {
   "codemirror_mode": {
    "name": "ipython",
    "version": 3
   },
   "file_extension": ".py",
   "mimetype": "text/x-python",
   "name": "python",
   "nbconvert_exporter": "python",
   "pygments_lexer": "ipython3",
   "version": "3.7.4"
  }
 },
 "nbformat": 4,
 "nbformat_minor": 2
}
